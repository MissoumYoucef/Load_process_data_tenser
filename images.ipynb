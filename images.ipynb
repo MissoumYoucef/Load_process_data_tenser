{
 "cells": [
  {
   "cell_type": "code",
   "execution_count": 2,
   "metadata": {},
   "outputs": [],
   "source": [
    "import numpy as np\n",
    "import os\n",
    "import PIL\n",
    "import PIL.Image\n",
    "import tensorflow as tf\n"
   ]
  },
  {
   "cell_type": "code",
   "execution_count": 3,
   "metadata": {},
   "outputs": [
    {
     "name": "stdout",
     "output_type": "stream",
     "text": [
      "Collecting tensorflow_datasets\n",
      "  Downloading tensorflow_datasets-4.9.4-py3-none-any.whl.metadata (9.2 kB)\n",
      "Requirement already satisfied: absl-py in c:\\users\\misso\\appdata\\local\\programs\\python\\python311\\lib\\site-packages (from tensorflow_datasets) (2.0.0)\n",
      "Requirement already satisfied: click in c:\\users\\misso\\appdata\\local\\programs\\python\\python311\\lib\\site-packages (from tensorflow_datasets) (8.1.7)\n",
      "Collecting dm-tree (from tensorflow_datasets)\n",
      "  Downloading dm_tree-0.1.8-cp311-cp311-win_amd64.whl (101 kB)\n",
      "     ---------------------------------------- 0.0/101.3 kB ? eta -:--:--\n",
      "     ------------------------------- ------- 81.9/101.3 kB 2.3 MB/s eta 0:00:01\n",
      "     -------------------------------------- 101.3/101.3 kB 1.4 MB/s eta 0:00:00\n",
      "Collecting etils>=0.9.0 (from etils[enp,epath,etree]>=0.9.0->tensorflow_datasets)\n",
      "  Downloading etils-1.6.0-py3-none-any.whl.metadata (6.4 kB)\n",
      "Requirement already satisfied: numpy in c:\\users\\misso\\appdata\\local\\programs\\python\\python311\\lib\\site-packages (from tensorflow_datasets) (1.25.2)\n",
      "Collecting promise (from tensorflow_datasets)\n",
      "  Downloading promise-2.3.tar.gz (19 kB)\n",
      "  Preparing metadata (setup.py): started\n",
      "  Preparing metadata (setup.py): finished with status 'done'\n",
      "Requirement already satisfied: protobuf>=3.20 in c:\\users\\misso\\appdata\\local\\programs\\python\\python311\\lib\\site-packages (from tensorflow_datasets) (4.23.4)\n",
      "Requirement already satisfied: psutil in c:\\users\\misso\\appdata\\roaming\\python\\python311\\site-packages (from tensorflow_datasets) (5.9.5)\n",
      "Requirement already satisfied: requests>=2.19.0 in c:\\users\\misso\\appdata\\local\\programs\\python\\python311\\lib\\site-packages (from tensorflow_datasets) (2.28.2)\n",
      "Collecting tensorflow-metadata (from tensorflow_datasets)\n",
      "  Downloading tensorflow_metadata-1.14.0-py3-none-any.whl.metadata (2.1 kB)\n",
      "Requirement already satisfied: termcolor in c:\\users\\misso\\appdata\\local\\programs\\python\\python311\\lib\\site-packages (from tensorflow_datasets) (2.4.0)\n",
      "Collecting toml (from tensorflow_datasets)\n",
      "  Downloading toml-0.10.2-py2.py3-none-any.whl (16 kB)\n",
      "Requirement already satisfied: tqdm in c:\\users\\misso\\appdata\\local\\programs\\python\\python311\\lib\\site-packages (from tensorflow_datasets) (4.66.1)\n",
      "Requirement already satisfied: wrapt in c:\\users\\misso\\appdata\\local\\programs\\python\\python311\\lib\\site-packages (from tensorflow_datasets) (1.14.1)\n",
      "Requirement already satisfied: fsspec in c:\\users\\misso\\appdata\\local\\programs\\python\\python311\\lib\\site-packages (from etils[enp,epath,etree]>=0.9.0->tensorflow_datasets) (2023.9.0)\n",
      "Collecting importlib_resources (from etils[enp,epath,etree]>=0.9.0->tensorflow_datasets)\n",
      "  Downloading importlib_resources-6.1.1-py3-none-any.whl.metadata (4.1 kB)\n",
      "Requirement already satisfied: typing_extensions in c:\\users\\misso\\appdata\\local\\programs\\python\\python311\\lib\\site-packages (from etils[enp,epath,etree]>=0.9.0->tensorflow_datasets) (4.7.1)\n",
      "Requirement already satisfied: zipp in c:\\users\\misso\\appdata\\local\\programs\\python\\python311\\lib\\site-packages (from etils[enp,epath,etree]>=0.9.0->tensorflow_datasets) (3.17.0)\n",
      "Requirement already satisfied: charset-normalizer<4,>=2 in c:\\users\\misso\\appdata\\local\\programs\\python\\python311\\lib\\site-packages (from requests>=2.19.0->tensorflow_datasets) (3.0.1)\n",
      "Requirement already satisfied: idna<4,>=2.5 in c:\\users\\misso\\appdata\\local\\programs\\python\\python311\\lib\\site-packages (from requests>=2.19.0->tensorflow_datasets) (3.4)\n",
      "Requirement already satisfied: urllib3<1.27,>=1.21.1 in c:\\users\\misso\\appdata\\local\\programs\\python\\python311\\lib\\site-packages (from requests>=2.19.0->tensorflow_datasets) (1.26.14)\n",
      "Requirement already satisfied: certifi>=2017.4.17 in c:\\users\\misso\\appdata\\local\\programs\\python\\python311\\lib\\site-packages (from requests>=2.19.0->tensorflow_datasets) (2022.12.7)\n",
      "Requirement already satisfied: colorama in c:\\users\\misso\\appdata\\roaming\\python\\python311\\site-packages (from click->tensorflow_datasets) (0.4.6)\n",
      "Requirement already satisfied: six in c:\\users\\misso\\appdata\\local\\programs\\python\\python311\\lib\\site-packages (from promise->tensorflow_datasets) (1.16.0)\n",
      "Collecting absl-py (from tensorflow_datasets)\n",
      "  Downloading absl_py-1.4.0-py3-none-any.whl (126 kB)\n",
      "     ---------------------------------------- 0.0/126.5 kB ? eta -:--:--\n",
      "     -------------------------------------- 126.5/126.5 kB 7.8 MB/s eta 0:00:00\n",
      "Requirement already satisfied: googleapis-common-protos<2,>=1.52.0 in c:\\users\\misso\\appdata\\local\\programs\\python\\python311\\lib\\site-packages (from tensorflow-metadata->tensorflow_datasets) (1.61.0)\n",
      "Collecting protobuf>=3.20 (from tensorflow_datasets)\n",
      "  Downloading protobuf-3.20.3-py2.py3-none-any.whl (162 kB)\n",
      "     ---------------------------------------- 0.0/162.1 kB ? eta -:--:--\n",
      "     ------------------------------------ - 153.6/162.1 kB 9.6 MB/s eta 0:00:01\n",
      "     -------------------------------------- 162.1/162.1 kB 3.3 MB/s eta 0:00:00\n",
      "Downloading tensorflow_datasets-4.9.4-py3-none-any.whl (5.1 MB)\n",
      "   ---------------------------------------- 0.0/5.1 MB ? eta -:--:--\n",
      "    --------------------------------------- 0.1/5.1 MB 3.2 MB/s eta 0:00:02\n",
      "   -- ------------------------------------- 0.3/5.1 MB 3.4 MB/s eta 0:00:02\n",
      "   --- ------------------------------------ 0.4/5.1 MB 3.3 MB/s eta 0:00:02\n",
      "   ---- ----------------------------------- 0.6/5.1 MB 3.5 MB/s eta 0:00:02\n",
      "   ---- ----------------------------------- 0.6/5.1 MB 3.5 MB/s eta 0:00:02\n",
      "   ---- ----------------------------------- 0.6/5.1 MB 2.3 MB/s eta 0:00:02\n",
      "   ---- ----------------------------------- 0.6/5.1 MB 2.3 MB/s eta 0:00:02\n",
      "   ------- -------------------------------- 0.9/5.1 MB 2.5 MB/s eta 0:00:02\n",
      "   ------- -------------------------------- 1.0/5.1 MB 2.5 MB/s eta 0:00:02\n",
      "   -------- ------------------------------- 1.0/5.1 MB 2.2 MB/s eta 0:00:02\n",
      "   --------- ------------------------------ 1.2/5.1 MB 2.3 MB/s eta 0:00:02\n",
      "   ---------- ----------------------------- 1.3/5.1 MB 2.4 MB/s eta 0:00:02\n",
      "   ----------- ---------------------------- 1.5/5.1 MB 2.5 MB/s eta 0:00:02\n",
      "   ------------ --------------------------- 1.6/5.1 MB 2.5 MB/s eta 0:00:02\n",
      "   ------------ --------------------------- 1.6/5.1 MB 2.3 MB/s eta 0:00:02\n",
      "   ------------- -------------------------- 1.6/5.1 MB 2.3 MB/s eta 0:00:02\n",
      "   ------------- -------------------------- 1.7/5.1 MB 2.2 MB/s eta 0:00:02\n",
      "   ------------- -------------------------- 1.7/5.1 MB 2.1 MB/s eta 0:00:02\n",
      "   -------------- ------------------------- 1.8/5.1 MB 2.0 MB/s eta 0:00:02\n",
      "   -------------- ------------------------- 1.9/5.1 MB 2.0 MB/s eta 0:00:02\n",
      "   ---------------- ----------------------- 2.1/5.1 MB 2.1 MB/s eta 0:00:02\n",
      "   ------------------ --------------------- 2.3/5.1 MB 2.2 MB/s eta 0:00:02\n",
      "   ------------------ --------------------- 2.4/5.1 MB 2.2 MB/s eta 0:00:02\n",
      "   --------------------- ------------------ 2.7/5.1 MB 2.4 MB/s eta 0:00:01\n",
      "   --------------------- ------------------ 2.8/5.1 MB 2.4 MB/s eta 0:00:01\n",
      "   ----------------------- ---------------- 3.0/5.1 MB 2.5 MB/s eta 0:00:01\n",
      "   ------------------------ --------------- 3.1/5.1 MB 2.5 MB/s eta 0:00:01\n",
      "   -------------------------- ------------- 3.3/5.1 MB 2.5 MB/s eta 0:00:01\n",
      "   --------------------------- ------------ 3.5/5.1 MB 2.6 MB/s eta 0:00:01\n",
      "   ----------------------------- ---------- 3.7/5.1 MB 2.7 MB/s eta 0:00:01\n",
      "   ------------------------------ --------- 3.9/5.1 MB 2.7 MB/s eta 0:00:01\n",
      "   -------------------------------- ------- 4.1/5.1 MB 2.7 MB/s eta 0:00:01\n",
      "   --------------------------------- ------ 4.3/5.1 MB 2.8 MB/s eta 0:00:01\n",
      "   ----------------------------------- ---- 4.5/5.1 MB 2.8 MB/s eta 0:00:01\n",
      "   ------------------------------------ --- 4.6/5.1 MB 2.8 MB/s eta 0:00:01\n",
      "   ------------------------------------- -- 4.7/5.1 MB 2.8 MB/s eta 0:00:01\n",
      "   ------------------------------------- -- 4.8/5.1 MB 2.8 MB/s eta 0:00:01\n",
      "   ------------------------------------- -- 4.8/5.1 MB 2.8 MB/s eta 0:00:01\n",
      "   ------------------------------------- -- 4.8/5.1 MB 2.8 MB/s eta 0:00:01\n",
      "   -------------------------------------- - 4.8/5.1 MB 2.6 MB/s eta 0:00:01\n",
      "   ---------------------------------------  5.0/5.1 MB 2.6 MB/s eta 0:00:01\n",
      "   ---------------------------------------  5.0/5.1 MB 2.6 MB/s eta 0:00:01\n",
      "   ---------------------------------------  5.0/5.1 MB 2.6 MB/s eta 0:00:01\n",
      "   ---------------------------------------  5.0/5.1 MB 2.5 MB/s eta 0:00:01\n",
      "   ---------------------------------------- 5.1/5.1 MB 2.4 MB/s eta 0:00:00\n",
      "Downloading etils-1.6.0-py3-none-any.whl (144 kB)\n",
      "   ---------------------------------------- 0.0/144.9 kB ? eta -:--:--\n",
      "   ---------------- ----------------------- 61.4/144.9 kB 3.2 MB/s eta 0:00:01\n",
      "   ------------------------------- -------- 112.6/144.9 kB 1.7 MB/s eta 0:00:01\n",
      "   ---------------------------------------- 144.9/144.9 kB 1.2 MB/s eta 0:00:00\n",
      "Downloading tensorflow_metadata-1.14.0-py3-none-any.whl (28 kB)\n",
      "Downloading importlib_resources-6.1.1-py3-none-any.whl (33 kB)\n",
      "Building wheels for collected packages: promise\n",
      "  Building wheel for promise (setup.py): started\n",
      "  Building wheel for promise (setup.py): finished with status 'done'\n",
      "  Created wheel for promise: filename=promise-2.3-py3-none-any.whl size=21545 sha256=175142753a5fa8399d0363c2dfc618a5d8714b922e1ca52ef54cefad148c002d\n",
      "  Stored in directory: c:\\users\\misso\\appdata\\local\\pip\\cache\\wheels\\90\\74\\b1\\9b54c896b8d9409e9268329d4d45ede8a8040abe91c8879932\n",
      "Successfully built promise\n",
      "Installing collected packages: dm-tree, toml, protobuf, promise, importlib_resources, etils, absl-py, tensorflow-metadata, tensorflow_datasets\n",
      "  Attempting uninstall: protobuf\n",
      "    Found existing installation: protobuf 4.23.4\n",
      "    Uninstalling protobuf-4.23.4:\n",
      "      Successfully uninstalled protobuf-4.23.4\n",
      "  Attempting uninstall: absl-py\n",
      "    Found existing installation: absl-py 2.0.0\n",
      "    Uninstalling absl-py-2.0.0:\n",
      "      Successfully uninstalled absl-py-2.0.0\n",
      "Successfully installed absl-py-1.4.0 dm-tree-0.1.8 etils-1.6.0 importlib_resources-6.1.1 promise-2.3 protobuf-3.20.3 tensorflow-metadata-1.14.0 tensorflow_datasets-4.9.4 toml-0.10.2\n"
     ]
    },
    {
     "name": "stderr",
     "output_type": "stream",
     "text": [
      "  WARNING: Failed to remove contents in a temporary directory 'C:\\Users\\misso\\AppData\\Local\\Programs\\Python\\Python311\\Lib\\site-packages\\google\\~upb'.\n",
      "  You can safely remove it manually.\n",
      "ERROR: pip's dependency resolver does not currently take into account all the packages that are installed. This behaviour is the source of the following dependency conflicts.\n",
      "grpcio-status 1.59.0 requires protobuf>=4.21.6, but you have protobuf 3.20.3 which is incompatible.\n"
     ]
    }
   ],
   "source": [
    "!pip install tensorflow_datasets"
   ]
  },
  {
   "cell_type": "code",
   "execution_count": 4,
   "metadata": {},
   "outputs": [
    {
     "name": "stderr",
     "output_type": "stream",
     "text": [
      "c:\\Users\\misso\\AppData\\Local\\Programs\\Python\\Python311\\Lib\\site-packages\\tqdm\\auto.py:21: TqdmWarning: IProgress not found. Please update jupyter and ipywidgets. See https://ipywidgets.readthedocs.io/en/stable/user_install.html\n",
      "  from .autonotebook import tqdm as notebook_tqdm\n"
     ]
    }
   ],
   "source": [
    "import tensorflow_datasets as tfds"
   ]
  },
  {
   "cell_type": "code",
   "execution_count": null,
   "metadata": {},
   "outputs": [],
   "source": [
    "import pathlib\n",
    "dataset_url = \"https://storage.googleapis.com/download.tensorflow.org/example_images/flower_photos.tgz\"\n",
    "archive = tf.keras.utils.get_file(origin=dataset_url, extract=True)\n",
    "data_dir = pathlib.Path(archive).with_suffix('')"
   ]
  },
  {
   "cell_type": "code",
   "execution_count": null,
   "metadata": {},
   "outputs": [],
   "source": []
  }
 ],
 "metadata": {
  "kernelspec": {
   "display_name": "Python 3",
   "language": "python",
   "name": "python3"
  },
  "language_info": {
   "codemirror_mode": {
    "name": "ipython",
    "version": 3
   },
   "file_extension": ".py",
   "mimetype": "text/x-python",
   "name": "python",
   "nbconvert_exporter": "python",
   "pygments_lexer": "ipython3",
   "version": "3.11.2"
  }
 },
 "nbformat": 4,
 "nbformat_minor": 2
}
